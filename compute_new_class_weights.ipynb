{
 "cells": [
  {
   "cell_type": "code",
   "execution_count": 1,
   "id": "bffd4271-e6a2-4453-b878-cc1194142c59",
   "metadata": {},
   "outputs": [],
   "source": [
    "import pandas as pd\n",
    "from tqdm import tqdm\n",
    "import numpy as np\n",
    "from collections import Counter\n",
    "from lib.store import Store\n",
    "from sklearn.utils.class_weight import compute_class_weight"
   ]
  },
  {
   "cell_type": "code",
   "execution_count": 2,
   "id": "27e5a098-85ce-4388-aecc-a93bc41d12a8",
   "metadata": {},
   "outputs": [],
   "source": [
    "# Define some parameters\n",
    "factor = 150\n",
    "data_dir = \"data/datasetBFS\"\n",
    "partitions_dir = \"partitions.parquet\"\n",
    "splits = ['train', 'val', 'test']"
   ]
  },
  {
   "cell_type": "code",
   "execution_count": 3,
   "id": "f61dc695-e99a-4a82-b542-b5364453bb93",
   "metadata": {},
   "outputs": [],
   "source": [
    "# Load the datafiles here i.e. all the labels\n",
    "def load_local_data_store(data_dir:str) -> Store:   \n",
    "    # build the store\n",
    "    store = Store(\n",
    "        base_dir=data_dir,\n",
    "        protocol='file'\n",
    "    )\n",
    "    return store\n",
    "\n",
    "datastore = load_local_data_store(data_dir)\n",
    "df_p = pd.read_parquet(\n",
    "        datastore.open_file(partitions_dir)\n",
    "    ).reset_index(drop=True).reset_index()"
   ]
  },
  {
   "cell_type": "code",
   "execution_count": 4,
   "id": "e38d5ec8-df78-4dae-816a-be04866d1d0c",
   "metadata": {},
   "outputs": [],
   "source": [
    "counters = {}\n",
    "graph_data = {}\n",
    "labelled = {}\n",
    "others = {}\n",
    "for sp, A in df_p.groupby('split'):\n",
    "    graph_data[sp] = {\n",
    "        x: None\n",
    "        for x in sorted(A['index'])\n",
    "    }\n",
    "    labelled[sp] = {\n",
    "        x: None\n",
    "        for x in sorted(A['index'])\n",
    "    }\n",
    "    counters[sp] = Counter()"
   ]
  },
  {
   "cell_type": "code",
   "execution_count": 5,
   "id": "c1831b59-1cfb-489a-9b4a-8d3c41c80026",
   "metadata": {},
   "outputs": [
    {
     "name": "stderr",
     "output_type": "stream",
     "text": [
      "100%|███████████████████████████████████████████████████████████████████████████████████████████████████████████████████████████████████████████| 13403/13403 [04:21<00:00, 51.30it/s]\n"
     ]
    }
   ],
   "source": [
    "# Make a list for all the labels\n",
    "list_data = []\n",
    "\n",
    "# Loop and collect values\n",
    "for p in tqdm(graph_data[\"train\"]):\n",
    "    # Load the required files\n",
    "    labels = pd.read_parquet(f'./{data_dir}/labels/labels_{p}.parquet')\n",
    "\n",
    "    # Extend the data\n",
    "    list_data.extend(labels[\"label\"].tolist())"
   ]
  },
  {
   "cell_type": "code",
   "execution_count": 11,
   "id": "d0bf8443-37d0-49f9-82a8-2cf54e12037c",
   "metadata": {},
   "outputs": [],
   "source": [
    "vals = Counter(list_data)"
   ]
  },
  {
   "cell_type": "code",
   "execution_count": 12,
   "id": "4f659ad5-e274-428b-98f7-91f06c8873d6",
   "metadata": {},
   "outputs": [
    {
     "data": {
      "text/plain": [
       "0.008527914444274549"
      ]
     },
     "execution_count": 12,
     "metadata": {},
     "output_type": "execute_result"
    }
   ],
   "source": [
    "vals[0] / vals[1]"
   ]
  },
  {
   "cell_type": "code",
   "execution_count": null,
   "id": "3c6aa298-e3e8-4a5e-a7f1-8436d6ab9791",
   "metadata": {},
   "outputs": [],
   "source": []
  }
 ],
 "metadata": {
  "kernelspec": {
   "display_name": "Python 3 (ipykernel)",
   "language": "python",
   "name": "python3"
  },
  "language_info": {
   "codemirror_mode": {
    "name": "ipython",
    "version": 3
   },
   "file_extension": ".py",
   "mimetype": "text/x-python",
   "name": "python",
   "nbconvert_exporter": "python",
   "pygments_lexer": "ipython3",
   "version": "3.10.2"
  }
 },
 "nbformat": 4,
 "nbformat_minor": 5
}
